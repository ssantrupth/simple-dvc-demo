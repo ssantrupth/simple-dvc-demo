{
 "cells": [
  {
   "cell_type": "code",
   "execution_count": 4,
   "id": "14fb169b-236a-4416-acfb-3764685c9c8f",
   "metadata": {},
   "outputs": [
    {
     "name": "stdout",
     "output_type": "stream",
     "text": [
      "{   'aliases': [],\n",
      "    'creation_timestamp': 1734981786795,\n",
      "    'current_stage': 'None',\n",
      "    'description': '',\n",
      "    'last_updated_timestamp': 1734981786795,\n",
      "    'name': 'ElasticNetWineModel',\n",
      "    'run_id': '6d1f34b2317f41a89d3fdec37b07d782',\n",
      "    'run_link': '',\n",
      "    'source': '/Users/santrupthsunkari/Documents/ML_Projects/simple_app/artifacts/1/6d1f34b2317f41a89d3fdec37b07d782/artifacts/model',\n",
      "    'status': 'READY',\n",
      "    'status_message': '',\n",
      "    'tags': {},\n",
      "    'user_id': '',\n",
      "    'version': '3'}\n",
      "{   'aliases': [],\n",
      "    'creation_timestamp': 1734981670258,\n",
      "    'current_stage': 'None',\n",
      "    'description': '',\n",
      "    'last_updated_timestamp': 1734981670258,\n",
      "    'name': 'ElasticNetWineModel',\n",
      "    'run_id': '987fa9992b3d482cbcddd7f74d860e9a',\n",
      "    'run_link': '',\n",
      "    'source': '/Users/santrupthsunkari/Documents/ML_Projects/simple_app/artifacts/1/987fa9992b3d482cbcddd7f74d860e9a/artifacts/model',\n",
      "    'status': 'READY',\n",
      "    'status_message': '',\n",
      "    'tags': {},\n",
      "    'user_id': '',\n",
      "    'version': '2'}\n",
      "{   'aliases': [],\n",
      "    'creation_timestamp': 1734981466028,\n",
      "    'current_stage': 'None',\n",
      "    'description': '',\n",
      "    'last_updated_timestamp': 1734981466028,\n",
      "    'name': 'ElasticNetWineModel',\n",
      "    'run_id': '980ab6fef3a44b278083fcb83bd55d4a',\n",
      "    'run_link': '',\n",
      "    'source': '/Users/santrupthsunkari/Documents/ML_Projects/simple_app/artifacts/1/980ab6fef3a44b278083fcb83bd55d4a/artifacts/model',\n",
      "    'status': 'READY',\n",
      "    'status_message': '',\n",
      "    'tags': {},\n",
      "    'user_id': '',\n",
      "    'version': '1'}\n"
     ]
    }
   ],
   "source": [
    "from src.get_data import read_params\n",
    "import argparse\n",
    "import mlflow\n",
    "from mlflow.tracking import MlflowClient\n",
    "from pprint import pprint\n",
    "import joblib\n",
    "import os\n",
    "\n",
    "os.chdir('/Users/santrupthsunkari/Documents/ML_Projects/simple_app')\n",
    "\n",
    "def log_production_model(config_path):\n",
    "    config = read_params(config_path)\n",
    "    mlflow_config = config[\"mlflow_config\"]\n",
    "    model_name = mlflow_config[\"registered_model_name\"]\n",
    "    remote_server_uri = mlflow_config[\"remote_server_uri\"]\n",
    "    mlflow.set_tracking_uri(remote_server_uri)\n",
    "    runs = mlflow.search_runs(experiment_ids=\"1\")\n",
    "    lowest = runs[\"metrics.mae\"].sort_values(ascending=True)[0]\n",
    "    lowest_run_id = runs[runs[\"metrics.mae\"] == lowest][\"run_id\"][0]\n",
    "\n",
    "    client = MlflowClient()\n",
    "    for mv in client.search_model_versions(f\"name='{model_name}'\"):\n",
    "        mv = dict(mv)\n",
    "        pprint(mv, indent=4)\n",
    "\n",
    "    #     if mv[\"run_id\"] == lowest_run_id:\n",
    "    #         current_version = mv[\"version\"]\n",
    "    #         logged_model = mv[\"source\"]\n",
    "    #         pprint(mv, indent=4)\n",
    "    #         client.transition_model_version_stage(\n",
    "    #             name=model_name,\n",
    "    #             version=current_version,\n",
    "    #             stage=\"Production\"\n",
    "    #         )\n",
    "    #     else:\n",
    "    #         current_version = mv[\"version\"]\n",
    "    #         client.transition_model_version_stage(\n",
    "    #             name=model_name,\n",
    "    #             version=current_version,\n",
    "    #             stage=\"Staging\"\n",
    "    #         )\n",
    "    # loaded_model = mlflow.pyfunc.load_model(logged_model)\n",
    "    # model_path = config[\"webapp_model_dir\"]\n",
    "    # joblib.dump(loaded_model, model_path)\n",
    "\n",
    "log_production_model(\"params.yaml\")"
   ]
  },
  {
   "cell_type": "code",
   "execution_count": null,
   "id": "39e92851-e002-48d0-9bfe-8274af71d7e6",
   "metadata": {},
   "outputs": [],
   "source": [
    "pwd\n"
   ]
  },
  {
   "cell_type": "code",
   "execution_count": 2,
   "id": "bd673717-bde9-4e11-9827-50e658a4995e",
   "metadata": {},
   "outputs": [
    {
     "name": "stdout",
     "output_type": "stream",
     "text": [
      "Procfile           \u001b[34mdist\u001b[m\u001b[m               \u001b[34mprediction_service\u001b[m\u001b[m template.py\n",
      "README.md          dvc.lock           \u001b[34mreport\u001b[m\u001b[m             \u001b[34mtests\u001b[m\u001b[m\n",
      "app.py             dvc.yaml           requirements.txt   tox.ini\n",
      "\u001b[34martifacts\u001b[m\u001b[m          mlflow.db          \u001b[34msaved_models\u001b[m\u001b[m       \u001b[34mwebapp\u001b[m\u001b[m\n",
      "\u001b[34mbuild\u001b[m\u001b[m              \u001b[34mmlruns\u001b[m\u001b[m             setup.py           \u001b[34mwineq\u001b[m\u001b[m\n",
      "\u001b[34mdata\u001b[m\u001b[m               \u001b[34mnotebooks\u001b[m\u001b[m          \u001b[34msrc\u001b[m\u001b[m\n",
      "\u001b[34mdata_given\u001b[m\u001b[m         params.yaml        \u001b[34msrc.egg-info\u001b[m\u001b[m\n"
     ]
    }
   ],
   "source": [
    "!ls\n"
   ]
  },
  {
   "cell_type": "code",
   "execution_count": null,
   "id": "efe33c1c-afc4-4970-a92d-cb75cb765920",
   "metadata": {},
   "outputs": [],
   "source": []
  }
 ],
 "metadata": {
  "kernelspec": {
   "display_name": "Python 3 (ipykernel)",
   "language": "python",
   "name": "python3"
  },
  "language_info": {
   "codemirror_mode": {
    "name": "ipython",
    "version": 3
   },
   "file_extension": ".py",
   "mimetype": "text/x-python",
   "name": "python",
   "nbconvert_exporter": "python",
   "pygments_lexer": "ipython3",
   "version": "3.13.0"
  }
 },
 "nbformat": 4,
 "nbformat_minor": 5
}
